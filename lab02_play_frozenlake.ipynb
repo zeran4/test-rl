{
 "cells": [
  {
   "cell_type": "code",
   "execution_count": null,
   "metadata": {
    "collapsed": true
   },
   "outputs": [],
   "source": [
    "# console display map에서 키보드 입력을 받는 형태라 jupyter notebook에서는 동작을 안함"
   ]
  },
  {
   "cell_type": "code",
   "execution_count": 1,
   "metadata": {
    "collapsed": true
   },
   "outputs": [],
   "source": [
    "import gym\n",
    "from gym.envs.registration import register\n",
    "import sys, os\n",
    "from colorama import init"
   ]
  },
  {
   "cell_type": "code",
   "execution_count": 2,
   "metadata": {
    "collapsed": false
   },
   "outputs": [
    {
     "name": "stdout",
     "output_type": "stream",
     "text": [
      "nt\n"
     ]
    }
   ],
   "source": [
    "print(os.name)"
   ]
  },
  {
   "cell_type": "code",
   "execution_count": 3,
   "metadata": {
    "collapsed": true
   },
   "outputs": [],
   "source": [
    "if os.name == 'nt':\n",
    "    from kbhit import KBHit\n",
    "\n",
    "else:\n",
    "    # Posix (Linux, OS X)\n",
    "    import tty\n",
    "    import termios\n",
    "\n",
    "    class _Getch:\n",
    "        def __call__(self):\n",
    "            fd = sys.stdin.fileno()\n",
    "            old_settings = termios.tcgetattr(fd)\n",
    "\n",
    "            try:\n",
    "                tty.setraw(sys.stdin.fileno())\n",
    "                ch = sys.stdin.read(3)\n",
    "            finally:\n",
    "                termios.tcsetattr(fd, termios.TCSADRAIN, old_settings)\n",
    "            return ch\n",
    "\n",
    "    inkey = _Getch()\n",
    "\n",
    "    # MACROS\n",
    "    LEFT=0\n",
    "    DOWN=1\n",
    "    RIGHT=2\n",
    "    UP=3\n",
    "\n",
    "    # key mapping\n",
    "    arrow_keys = {\n",
    "        '\\x1b[A': UP,\n",
    "        '\\x1b[B': DOWN,\n",
    "        '\\x1b[C': RIGHT,\n",
    "        '\\x1b[D': LEFT\n",
    "    }"
   ]
  },
  {
   "cell_type": "code",
   "execution_count": 4,
   "metadata": {
    "collapsed": true
   },
   "outputs": [],
   "source": [
    "#  ###########  Begin Moudules  ###########\n",
    "init(autoreset=True)\n",
    "\n",
    "register(\n",
    "    id='FrozenLake-v3',\n",
    "    entry_point='gym.envs.toy_text:FrozenLakeEnv',\n",
    "    kwargs={'map_name' : '4x4', 'is_slippery': False}\n",
    ")"
   ]
  },
  {
   "cell_type": "code",
   "execution_count": 5,
   "metadata": {
    "collapsed": false
   },
   "outputs": [
    {
     "name": "stderr",
     "output_type": "stream",
     "text": [
      "[2017-02-04 17:30:05,074] Making new env: FrozenLake-v3\n"
     ]
    },
    {
     "name": "stdout",
     "output_type": "stream",
     "text": [
      "SFFF\n",
      "FHFH\n",
      "FFFH\n",
      "HFFG\n",
      "\n"
     ]
    },
    {
     "data": {
      "text/plain": [
       "<colorama.ansitowin32.StreamWrapper at 0x7788c88>"
      ]
     },
     "execution_count": 5,
     "metadata": {},
     "output_type": "execute_result"
    }
   ],
   "source": [
    "env = gym.make('FrozenLake-v3')\n",
    "env.render()"
   ]
  },
  {
   "cell_type": "code",
   "execution_count": null,
   "metadata": {
    "collapsed": true
   },
   "outputs": [],
   "source": [
    "while True:\n",
    "    if os.name == 'nt':\n",
    "        key = KBHit()\n",
    "        action = key.getarrow();\n",
    "        if action not in [0, 1, 2, 3]:\n",
    "            print(\"Game aborted!\")\n",
    "            break\n",
    "\n",
    "    else:\n",
    "        key = inkey()\n",
    "        if key not in arrow_keys.keys():\n",
    "            print(\"Game aborted!\")\n",
    "            break\n",
    "\n",
    "        action = arrow_keys[key]\n",
    "\n",
    "    state, reward, done, info = env.step(action)\n",
    "    env.render()\n",
    "    print(\"State: \", state, \"Action: \", action, \"Reward: \", reward, \"Info: \", info)\n",
    "\n",
    "    if done:\n",
    "        print(\"Finished with reward\", reward)\n",
    "        break"
   ]
  },
  {
   "cell_type": "code",
   "execution_count": null,
   "metadata": {
    "collapsed": true
   },
   "outputs": [],
   "source": []
  }
 ],
 "metadata": {
  "anaconda-cloud": {},
  "kernelspec": {
   "display_name": "Python [default]",
   "language": "python",
   "name": "python3"
  },
  "language_info": {
   "codemirror_mode": {
    "name": "ipython",
    "version": 3
   },
   "file_extension": ".py",
   "mimetype": "text/x-python",
   "name": "python",
   "nbconvert_exporter": "python",
   "pygments_lexer": "ipython3",
   "version": "3.5.2"
  }
 },
 "nbformat": 4,
 "nbformat_minor": 1
}
