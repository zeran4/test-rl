{
 "cells": [
  {
   "cell_type": "code",
   "execution_count": 1,
   "metadata": {
    "collapsed": false
   },
   "outputs": [
    {
     "name": "stderr",
     "output_type": "stream",
     "text": [
      "[2017-03-04 02:25:35,168] Making new env: CartPole-v0\n"
     ]
    }
   ],
   "source": [
    "import gym\n",
    "import numpy as np\n",
    "import tensorflow as tf\n",
    "import matplotlib.pyplot as plt\n",
    "\n",
    "env = gym.make('CartPole-v0')\n",
    "\n"
   ]
  },
  {
   "cell_type": "code",
   "execution_count": 2,
   "metadata": {
    "collapsed": false
   },
   "outputs": [],
   "source": [
    "# Input and output size based on the Env\n",
    "input_size = env.observation_space.shape[0]\n",
    "output_size = env.action_space.n\n",
    "learining_rate = 1e-1"
   ]
  },
  {
   "cell_type": "code",
   "execution_count": 3,
   "metadata": {
    "collapsed": false
   },
   "outputs": [
    {
     "name": "stdout",
     "output_type": "stream",
     "text": [
      "4 2 0.1\n"
     ]
    }
   ],
   "source": [
    "print(input_size, output_size, learining_rate)"
   ]
  },
  {
   "cell_type": "code",
   "execution_count": 4,
   "metadata": {
    "collapsed": true
   },
   "outputs": [],
   "source": [
    "# These lines establish the feed-forward part of the network used to choose actions\n",
    "X = tf.placeholder(tf.float32, [None,input_size], name=\"input_x\") # state input"
   ]
  },
  {
   "cell_type": "code",
   "execution_count": 5,
   "metadata": {
    "collapsed": false
   },
   "outputs": [],
   "source": [
    "# First layer of weights\n",
    "W = tf.get_variable(\"W1\", shape=[input_size, output_size],\n",
    "                    initializer = tf.contrib.layers.xavier_initializer())"
   ]
  },
  {
   "cell_type": "code",
   "execution_count": 6,
   "metadata": {
    "collapsed": true
   },
   "outputs": [],
   "source": [
    "Qpred = tf.matmul(X, W) # Out Q prediction"
   ]
  },
  {
   "cell_type": "code",
   "execution_count": 7,
   "metadata": {
    "collapsed": false
   },
   "outputs": [],
   "source": [
    "# We need to define the parts of the network needed for learning a policy\n",
    "Y = tf.placeholder(shape=[None, output_size],dtype=tf.float32) # Y label"
   ]
  },
  {
   "cell_type": "code",
   "execution_count": 8,
   "metadata": {
    "collapsed": true
   },
   "outputs": [],
   "source": [
    "loss = tf.reduce_sum(tf.square(Y - Qpred))"
   ]
  },
  {
   "cell_type": "code",
   "execution_count": 9,
   "metadata": {
    "collapsed": true
   },
   "outputs": [],
   "source": [
    "train = tf.train.AdamOptimizer(learning_rate=learining_rate).minimize(loss)"
   ]
  },
  {
   "cell_type": "code",
   "execution_count": 10,
   "metadata": {
    "collapsed": true
   },
   "outputs": [],
   "source": [
    "# Set Q-learning related parameters\n",
    "dis = .99\n",
    "num_episodes = 2000"
   ]
  },
  {
   "cell_type": "code",
   "execution_count": 11,
   "metadata": {
    "collapsed": true
   },
   "outputs": [],
   "source": [
    "# Create lists to contain total rewards and steps per episode\n",
    "rList = []"
   ]
  },
  {
   "cell_type": "code",
   "execution_count": 12,
   "metadata": {
    "collapsed": true
   },
   "outputs": [],
   "source": [
    "init = tf.global_variables_initializer()"
   ]
  },
  {
   "cell_type": "code",
   "execution_count": 13,
   "metadata": {
    "collapsed": false
   },
   "outputs": [
    {
     "name": "stdout",
     "output_type": "stream",
     "text": [
      "Episode: 0 steps: 14\n",
      "Episode: 50 steps: 25\n",
      "Episode: 100 steps: 38\n",
      "Episode: 150 steps: 28\n",
      "Episode: 200 steps: 9\n",
      "Episode: 250 steps: 17\n",
      "Episode: 300 steps: 22\n",
      "Episode: 350 steps: 15\n",
      "Episode: 400 steps: 36\n",
      "Episode: 450 steps: 26\n",
      "Episode: 500 steps: 15\n",
      "Episode: 550 steps: 50\n",
      "Episode: 600 steps: 31\n",
      "Episode: 650 steps: 26\n",
      "Episode: 700 steps: 42\n",
      "Episode: 750 steps: 22\n",
      "Episode: 800 steps: 16\n",
      "Episode: 850 steps: 9\n",
      "Episode: 900 steps: 17\n",
      "Episode: 950 steps: 30\n",
      "Episode: 1000 steps: 16\n",
      "Episode: 1050 steps: 19\n",
      "Episode: 1100 steps: 15\n",
      "Episode: 1150 steps: 9\n",
      "Episode: 1200 steps: 20\n",
      "Episode: 1250 steps: 23\n",
      "Episode: 1300 steps: 62\n",
      "Episode: 1350 steps: 11\n",
      "Episode: 1400 steps: 9\n",
      "Episode: 1450 steps: 44\n",
      "Episode: 1500 steps: 10\n",
      "Episode: 1550 steps: 33\n",
      "Episode: 1600 steps: 24\n",
      "Episode: 1650 steps: 43\n",
      "Episode: 1700 steps: 34\n",
      "Episode: 1750 steps: 10\n",
      "Episode: 1800 steps: 23\n",
      "Episode: 1850 steps: 19\n",
      "Episode: 1900 steps: 31\n",
      "Episode: 1950 steps: 20\n"
     ]
    }
   ],
   "source": [
    "sess = tf.Session()\n",
    "sess.run(init)\n",
    "\n",
    "for i in range(num_episodes):\n",
    "    # Reset environment and get first new observation\n",
    "    e = 1. / ((i / 10) + 1)\n",
    "    rAll = 0\n",
    "    step_count = 0\n",
    "    s = env.reset()\n",
    "    done = False\n",
    "\n",
    "    # The Q-Network training\n",
    "    while not done:\n",
    "        step_count += 1\n",
    "        x = np.reshape(s, [1, input_size])\n",
    "        # Choose and action by greedily (with a chance of random action) from the Q-network\n",
    "        Qs = sess.run(Qpred,feed_dict={X: x})\n",
    "        if np.random.rand(1) < e:\n",
    "            a = env.action_space.sample()\n",
    "        else:\n",
    "            a = np.argmax(Qs)\n",
    "\n",
    "        # Get new state and reward from environment \n",
    "        s1, reward, done, _ = env.step(a)\n",
    "        if done:\n",
    "            # Update Q, and no Qs+1, since it's a terminal state\n",
    "            Qs[0, a] = -100\n",
    "        else:\n",
    "            x1 = np.reshape(s1, [1, input_size])\n",
    "            # Obtain the Q_s1 values by feeding the new state through our network\n",
    "            Qs1 = sess.run(Qpred, feed_dict={X: x1})\n",
    "            # Update Q\n",
    "            Qs[0, a] = reward + dis * np.max(Qs1)\n",
    "\n",
    "        # Train our network using target (Y) and predicted Q (Qpred) values\n",
    "        sess.run(train, feed_dict={X: x, Y: Qs})\n",
    "\n",
    "        s = s1\n",
    "\n",
    "    rList.append(step_count)\n",
    "    if i % 50 == 0 :\n",
    "        print(\"Episode: {} steps: {}\".format(i, step_count))\n",
    "    # If last 10's avg steps are 500, it's good enough\n",
    "    if len(rList) > 10 and np.mean(rList[-10:]) > 500:\n",
    "        break"
   ]
  },
  {
   "cell_type": "code",
   "execution_count": 14,
   "metadata": {
    "collapsed": false
   },
   "outputs": [
    {
     "name": "stdout",
     "output_type": "stream",
     "text": [
      "Total score: 29.0\n"
     ]
    }
   ],
   "source": [
    "#See out trained network in action\n",
    "observation = env.reset()\n",
    "reward_sum = 0\n",
    "while True:\n",
    "    env.render()\n",
    "    \n",
    "    x = np.reshape(observation, [1, input_size])\n",
    "    Qs = sess.run(Qpred, feed_dict={X: x})\n",
    "    a = np.argmax(Qs)\n",
    "    \n",
    "    observation, reward, done, _ = env.step(a)\n",
    "    reward_sum += reward\n",
    "    if done:\n",
    "        print(\"Total score: {}\".format(reward_sum))\n",
    "        break\n"
   ]
  },
  {
   "cell_type": "code",
   "execution_count": 15,
   "metadata": {
    "collapsed": false
   },
   "outputs": [
    {
     "data": {
      "text/plain": [
       "0.1"
      ]
     },
     "execution_count": 15,
     "metadata": {},
     "output_type": "execute_result"
    }
   ],
   "source": [
    "1e-1"
   ]
  },
  {
   "cell_type": "code",
   "execution_count": 16,
   "metadata": {
    "collapsed": false
   },
   "outputs": [],
   "source": [
    "import cmath"
   ]
  },
  {
   "cell_type": "code",
   "execution_count": 17,
   "metadata": {
    "collapsed": false
   },
   "outputs": [
    {
     "data": {
      "text/plain": [
       "((1+0j), (2.718281828459045+0j))"
      ]
     },
     "execution_count": 17,
     "metadata": {},
     "output_type": "execute_result"
    }
   ],
   "source": [
    "cmath.log(cmath.exp(1)), cmath.exp(1)"
   ]
  },
  {
   "cell_type": "code",
   "execution_count": null,
   "metadata": {
    "collapsed": true
   },
   "outputs": [],
   "source": []
  }
 ],
 "metadata": {
  "anaconda-cloud": {},
  "kernelspec": {
   "display_name": "Python [default]",
   "language": "python",
   "name": "python3"
  },
  "language_info": {
   "codemirror_mode": {
    "name": "ipython",
    "version": 3
   },
   "file_extension": ".py",
   "mimetype": "text/x-python",
   "name": "python",
   "nbconvert_exporter": "python",
   "pygments_lexer": "ipython3",
   "version": "3.5.2"
  }
 },
 "nbformat": 4,
 "nbformat_minor": 1
}
