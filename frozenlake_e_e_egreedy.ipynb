{
 "cells": [
  {
   "cell_type": "code",
   "execution_count": 1,
   "metadata": {
    "collapsed": false
   },
   "outputs": [
    {
     "name": "stderr",
     "output_type": "stream",
     "text": [
      "[2017-02-05 10:35:46,916] Making new env: FrozenLake-v3\n"
     ]
    }
   ],
   "source": [
    "import gym\n",
    "import numpy as np\n",
    "import matplotlib.pyplot as plt\n",
    "from gym.envs.registration import register\n",
    "import random as pr\n",
    "\n",
    "def rargmax(vector):\n",
    "    \"\"\" Argmax that chooses randomly among eligible maximum indices. \"\"\"\n",
    "    m = np.amax(vector)\n",
    "    indices = np.nonzero(vector == m)[0]\n",
    "    return pr.choice(indices)\n",
    "\n",
    "register(\n",
    "    id='FrozenLake-v3',\n",
    "    entry_point='gym.envs.toy_text:FrozenLakeEnv',\n",
    "    kwargs={'map_name' : '4x4',\n",
    "            'is_slippery': False}\n",
    ")\n",
    "env = gym.make('FrozenLake-v3')\n",
    "\n",
    "# Initialize table with all zeros\n",
    "Q = np.zeros([env.observation_space.n,env.action_space.n])"
   ]
  },
  {
   "cell_type": "code",
   "execution_count": 2,
   "metadata": {
    "collapsed": true
   },
   "outputs": [],
   "source": [
    "# Discount factor\n",
    "dis = .99"
   ]
  },
  {
   "cell_type": "code",
   "execution_count": 3,
   "metadata": {
    "collapsed": true
   },
   "outputs": [],
   "source": [
    "# Set learning parameters\n",
    "num_episodes = 2000\n",
    "\n",
    "# create list to contain total rewars and steps per episode\n",
    "rList = []"
   ]
  },
  {
   "cell_type": "code",
   "execution_count": 4,
   "metadata": {
    "collapsed": false
   },
   "outputs": [],
   "source": [
    "for i in range(num_episodes):\n",
    "    # Reset environment and get first new observation\n",
    "    state = env.reset()\n",
    "    rAll = 0\n",
    "    done = False\n",
    "\n",
    "    e = 1. / ((i // 100) + 1) # // : python 2&3\n",
    "    \n",
    "    # The Q-Table learning algorithm\n",
    "    while not done:\n",
    "        # Choose an action by egreedy\n",
    "        if np.random.rand(1) < e:\n",
    "            action = env.action_space.sample()\n",
    "        else:\n",
    "            action = np.argmax(Q[state, :])\n",
    "    \n",
    "        # Get new state and reward from environment\n",
    "        new_state, reward, done,_ = env.step(action)\n",
    "    \n",
    "        # Update Q-Table with new knowledge using learning rate\n",
    "        Q[state,action] = reward + dis * np.max(Q[new_state,:])\n",
    "    \n",
    "        rAll += reward\n",
    "        state = new_state\n",
    "    \n",
    "    rList.append(rAll)"
   ]
  },
  {
   "cell_type": "code",
   "execution_count": 5,
   "metadata": {
    "collapsed": false
   },
   "outputs": [
    {
     "name": "stdout",
     "output_type": "stream",
     "text": [
      "Success rate: 0.823\n",
      "Finale Q-Table Values\n",
      "LEFT DOWN RIGHT UP\n",
      "[[ 0.94148015  0.95099005  0.95099005  0.94148015]\n",
      " [ 0.94148015  0.          0.96059601  0.95099005]\n",
      " [ 0.95099005  0.970299    0.95099005  0.96059601]\n",
      " [ 0.96059601  0.          0.95099005  0.95099005]\n",
      " [ 0.95099005  0.96059601  0.          0.94148015]\n",
      " [ 0.          0.          0.          0.        ]\n",
      " [ 0.          0.9801      0.          0.96059601]\n",
      " [ 0.          0.          0.          0.        ]\n",
      " [ 0.96059601  0.          0.970299    0.95099005]\n",
      " [ 0.96059601  0.9801      0.9801      0.        ]\n",
      " [ 0.970299    0.99        0.          0.970299  ]\n",
      " [ 0.          0.          0.          0.        ]\n",
      " [ 0.          0.          0.          0.        ]\n",
      " [ 0.          0.9801      0.99        0.970299  ]\n",
      " [ 0.9801      0.99        1.          0.9801    ]\n",
      " [ 0.          0.          0.          0.        ]]\n"
     ]
    },
    {
     "data": {
      "image/png": "[encoded data removed]",
      "text/plain": [
       "<matplotlib.figure.Figure at 0x8344e48>"
      ]
     },
     "metadata": {},
     "output_type": "display_data"
    }
   ],
   "source": [
    "print(\"Success rate: \" + str(sum(rList)/num_episodes))\n",
    "print(\"Finale Q-Table Values\")\n",
    "print(\"LEFT DOWN RIGHT UP\")\n",
    "print(Q)\n",
    "#plt.bar(range(len(rList)), rList, color=\"blue\")   # blue가 안먹네. (윈7) : edgecolor가 검은색\n",
    "plt.bar(range(len(rList)), rList, color=\"blue\", edgecolor=\"none\")    # edgecolor를 none으로 하면 color가 나옴\n",
    "plt.show()"
   ]
  },
  {
   "cell_type": "code",
   "execution_count": null,
   "metadata": {
    "collapsed": true
   },
   "outputs": [],
   "source": []
  }
 ],
 "metadata": {
  "anaconda-cloud": {},
  "kernelspec": {
   "display_name": "Python [default]",
   "language": "python",
   "name": "python3"
  },
  "language_info": {
   "codemirror_mode": {
    "name": "ipython",
    "version": 3
   },
   "file_extension": ".py",
   "mimetype": "text/x-python",
   "name": "python",
   "nbconvert_exporter": "python",
   "pygments_lexer": "ipython3",
   "version": "3.5.2"
  }
 },
 "nbformat": 4,
 "nbformat_minor": 1
}
