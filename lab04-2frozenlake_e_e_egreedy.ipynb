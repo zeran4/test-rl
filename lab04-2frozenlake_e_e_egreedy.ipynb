{
 "cells": [
  {
   "cell_type": "code",
   "execution_count": 1,
   "metadata": {
    "collapsed": false
   },
   "outputs": [
    {
     "name": "stderr",
     "output_type": "stream",
     "text": [
      "[2017-03-04 01:25:48,180] Making new env: FrozenLake-v3\n"
     ]
    }
   ],
   "source": [
    "import gym\n",
    "import numpy as np\n",
    "import matplotlib.pyplot as plt\n",
    "from gym.envs.registration import register\n",
    "import random as pr\n",
    "\n",
    "def rargmax(vector):\n",
    "    \"\"\" Argmax that chooses randomly among eligible maximum indices. \"\"\"\n",
    "    m = np.amax(vector)\n",
    "    indices = np.nonzero(vector == m)[0]\n",
    "    return pr.choice(indices)\n",
    "\n",
    "register(\n",
    "    id='FrozenLake-v3',\n",
    "    entry_point='gym.envs.toy_text:FrozenLakeEnv',\n",
    "    kwargs={'map_name' : '4x4',\n",
    "            'is_slippery': False}\n",
    ")\n",
    "\n",
    "env = gym.make('FrozenLake-v3')\n",
    "\n",
    "# Initialize table with all zeros\n",
    "Q = np.zeros([env.observation_space.n,env.action_space.n])"
   ]
  },
  {
   "cell_type": "code",
   "execution_count": 2,
   "metadata": {
    "collapsed": true
   },
   "outputs": [],
   "source": [
    "# Discount factor\n",
    "dis = .99"
   ]
  },
  {
   "cell_type": "code",
   "execution_count": 3,
   "metadata": {
    "collapsed": true
   },
   "outputs": [],
   "source": [
    "# Set learning parameters\n",
    "#num_episodes = 2000\n",
    "num_episodes = 5000\n",
    "\n",
    "# create list to contain total rewars and steps per episode\n",
    "rList = []"
   ]
  },
  {
   "cell_type": "code",
   "execution_count": 4,
   "metadata": {
    "collapsed": false
   },
   "outputs": [
    {
     "name": "stdout",
     "output_type": "stream",
     "text": [
      "0\n",
      "100\n",
      "200\n",
      "300\n",
      "400\n",
      "500\n",
      "600\n",
      "700\n",
      "800\n",
      "900\n",
      "1000\n",
      "1100\n",
      "1200\n",
      "1300\n",
      "1400\n",
      "1500\n",
      "1600\n",
      "1700\n",
      "1800\n",
      "1900\n",
      "2000\n",
      "2100\n",
      "2200\n",
      "2300\n",
      "2400\n",
      "2500\n",
      "2600\n",
      "2700\n",
      "2800\n",
      "2900\n",
      "3000\n",
      "3100\n",
      "3200\n",
      "3300\n",
      "3400\n",
      "3500\n",
      "3600\n",
      "3700\n",
      "3800\n",
      "3900\n",
      "4000\n",
      "4100\n",
      "4200\n",
      "4300\n",
      "4400\n",
      "4500\n",
      "4600\n",
      "4700\n",
      "4800\n",
      "4900\n"
     ]
    }
   ],
   "source": [
    "for i in range(num_episodes):\n",
    "    # Reset environment and get first new observation\n",
    "    state = env.reset()\n",
    "    rAll = 0\n",
    "    done = False\n",
    "\n",
    "    e = 1. / ((i // 100) + 1) # // : python 2&3\n",
    "    \n",
    "    # The Q-Table learning algorithm\n",
    "    while not done:\n",
    "        # Choose an action by egreedy\n",
    "        if np.random.rand(1) < e:\n",
    "            action = env.action_space.sample()\n",
    "        else:\n",
    "            action = np.argmax(Q[state, :])\n",
    "\n",
    "        # Get new state and reward from environment\n",
    "        new_state, reward, done,_ = env.step(action)\n",
    "    \n",
    "        # Update Q-Table with new knowledge using learning rate\n",
    "        Q[state,action] = reward + dis * np.max(Q[new_state,:])\n",
    "    \n",
    "        rAll += reward\n",
    "        state = new_state\n",
    "    \n",
    "    rList.append(rAll)\n",
    "    \n",
    "    if (i % 100 == 0):\n",
    "        print(i)"
   ]
  },
  {
   "cell_type": "code",
   "execution_count": 5,
   "metadata": {
    "collapsed": false
   },
   "outputs": [
    {
     "name": "stdout",
     "output_type": "stream",
     "text": [
      "Success rate: 0.9018\n",
      "Finale Q-Table Values\n",
      "LEFT DOWN RIGHT UP\n",
      "[[ 0.94148015  0.95099005  0.95099005  0.94148015]\n",
      " [ 0.94148015  0.          0.96059601  0.95099005]\n",
      " [ 0.93206535  0.970299    0.          0.96059601]\n",
      " [ 0.          0.          0.          0.        ]\n",
      " [ 0.95099005  0.96059601  0.          0.94148015]\n",
      " [ 0.          0.          0.          0.        ]\n",
      " [ 0.          0.9801      0.          0.        ]\n",
      " [ 0.          0.          0.          0.        ]\n",
      " [ 0.96059601  0.          0.970299    0.95099005]\n",
      " [ 0.96059601  0.9801      0.9801      0.        ]\n",
      " [ 0.970299    0.99        0.          0.970299  ]\n",
      " [ 0.          0.          0.          0.        ]\n",
      " [ 0.          0.          0.          0.        ]\n",
      " [ 0.          0.9801      0.99        0.970299  ]\n",
      " [ 0.9801      0.99        1.          0.9801    ]\n",
      " [ 0.          0.          0.          0.        ]]\n"
     ]
    },
    {
     "data": {
      "image/png": "[encoded data removed]",
      "text/plain": [
       "<matplotlib.figure.Figure at 0x210ad53d668>"
      ]
     },
     "metadata": {},
     "output_type": "display_data"
    }
   ],
   "source": [
    "print(\"Success rate: \" + str(sum(rList)/num_episodes))\n",
    "print(\"Finale Q-Table Values\")\n",
    "print(\"LEFT DOWN RIGHT UP\")\n",
    "print(Q)\n",
    "#plt.bar(range(len(rList)), rList, color=\"blue\")   # blue가 안먹네. (윈7) : edgecolor가 검은색\n",
    "plt.bar(range(len(rList)), rList, color=\"blue\", edgecolor=\"none\")    # edgecolor를 none으로 하면 color가 나옴\n",
    "plt.show()"
   ]
  },
  {
   "cell_type": "code",
   "execution_count": null,
   "metadata": {
    "collapsed": true
   },
   "outputs": [],
   "source": []
  }
 ],
 "metadata": {
  "anaconda-cloud": {},
  "kernelspec": {
   "display_name": "Python [default]",
   "language": "python",
   "name": "python3"
  },
  "language_info": {
   "codemirror_mode": {
    "name": "ipython",
    "version": 3
   },
   "file_extension": ".py",
   "mimetype": "text/x-python",
   "name": "python",
   "nbconvert_exporter": "python",
   "pygments_lexer": "ipython3",
   "version": "3.5.2"
  }
 },
 "nbformat": 4,
 "nbformat_minor": 1
}
